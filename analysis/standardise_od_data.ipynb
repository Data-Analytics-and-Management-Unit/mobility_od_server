{
 "cells": [
  {
   "cell_type": "code",
   "execution_count": 1,
   "metadata": {},
   "outputs": [],
   "source": [
    "import json\n",
    "import pandas as pd\n",
    "from tqdm import tqdm"
   ]
  },
  {
   "cell_type": "code",
   "execution_count": 13,
   "metadata": {},
   "outputs": [
    {
     "name": "stderr",
     "output_type": "stream",
     "text": [
      "  1%|          | 2/198 [00:00<00:46,  4.24it/s]"
     ]
    },
    {
     "name": "stdout",
     "output_type": "stream",
     "text": [
      "'duration_in_traffic'\n",
      "{'distance': {'text': '10.5 km', 'value': 10467}, 'duration': {'text': '27 mins', 'value': 1644}, 'status': 'OK'}\n"
     ]
    },
    {
     "name": "stderr",
     "output_type": "stream",
     "text": [
      " 12%|█▏        | 24/198 [00:05<00:38,  4.47it/s]"
     ]
    },
    {
     "name": "stdout",
     "output_type": "stream",
     "text": [
      "'duration_in_traffic'\n",
      "{'distance': {'text': '13.8 km', 'value': 13808}, 'duration': {'text': '34 mins', 'value': 2016}, 'status': 'OK'}\n"
     ]
    },
    {
     "name": "stderr",
     "output_type": "stream",
     "text": [
      " 19%|█▉        | 38/198 [00:08<00:33,  4.83it/s]"
     ]
    },
    {
     "name": "stdout",
     "output_type": "stream",
     "text": [
      "'duration_in_traffic'\n",
      "{'distance': {'text': '10.4 km', 'value': 10357}, 'duration': {'text': '35 mins', 'value': 2110}, 'status': 'OK'}\n"
     ]
    },
    {
     "name": "stderr",
     "output_type": "stream",
     "text": [
      " 26%|██▌       | 51/198 [00:10<00:30,  4.81it/s]"
     ]
    },
    {
     "name": "stdout",
     "output_type": "stream",
     "text": [
      "'duration_in_traffic'\n",
      "{'distance': {'text': '13.3 km', 'value': 13291}, 'duration': {'text': '28 mins', 'value': 1706}, 'status': 'OK'}\n"
     ]
    },
    {
     "name": "stderr",
     "output_type": "stream",
     "text": [
      " 30%|██▉       | 59/198 [00:12<00:28,  4.85it/s]"
     ]
    },
    {
     "name": "stdout",
     "output_type": "stream",
     "text": [
      "'duration_in_traffic'\n",
      "{'distance': {'text': '10.7 km', 'value': 10737}, 'duration': {'text': '35 mins', 'value': 2078}, 'status': 'OK'}\n"
     ]
    },
    {
     "name": "stderr",
     "output_type": "stream",
     "text": [
      " 41%|████▏     | 82/198 [00:17<00:25,  4.52it/s]"
     ]
    },
    {
     "name": "stdout",
     "output_type": "stream",
     "text": [
      "'duration_in_traffic'\n",
      "{'distance': {'text': '2.7 km', 'value': 2686}, 'duration': {'text': '11 mins', 'value': 667}, 'status': 'OK'}\n"
     ]
    },
    {
     "name": "stderr",
     "output_type": "stream",
     "text": [
      " 51%|█████     | 100/198 [00:21<00:24,  4.03it/s]"
     ]
    },
    {
     "name": "stdout",
     "output_type": "stream",
     "text": [
      "'duration_in_traffic'\n",
      "{'distance': {'text': '7.7 km', 'value': 7672}, 'duration': {'text': '26 mins', 'value': 1533}, 'status': 'OK'}\n"
     ]
    },
    {
     "name": "stderr",
     "output_type": "stream",
     "text": [
      " 68%|██████▊   | 135/198 [00:29<00:13,  4.55it/s]"
     ]
    },
    {
     "name": "stdout",
     "output_type": "stream",
     "text": [
      "'duration_in_traffic'\n",
      "{'distance': {'text': '6.2 km', 'value': 6199}, 'duration': {'text': '17 mins', 'value': 990}, 'status': 'OK'}\n"
     ]
    },
    {
     "name": "stderr",
     "output_type": "stream",
     "text": [
      " 96%|█████████▋| 191/198 [00:44<00:01,  3.92it/s]"
     ]
    },
    {
     "name": "stdout",
     "output_type": "stream",
     "text": [
      "'duration_in_traffic'\n",
      "{'distance': {'text': '15.7 km', 'value': 15663}, 'duration': {'text': '54 mins', 'value': 3232}, 'status': 'OK'}\n"
     ]
    },
    {
     "name": "stderr",
     "output_type": "stream",
     "text": [
      " 98%|█████████▊| 195/198 [00:45<00:00,  4.00it/s]"
     ]
    },
    {
     "name": "stdout",
     "output_type": "stream",
     "text": [
      "'duration_in_traffic'\n",
      "{'distance': {'text': '14.9 km', 'value': 14944}, 'duration': {'text': '40 mins', 'value': 2379}, 'status': 'OK'}\n"
     ]
    },
    {
     "name": "stderr",
     "output_type": "stream",
     "text": [
      "100%|██████████| 198/198 [00:45<00:00,  4.31it/s]\n"
     ]
    }
   ],
   "source": [
    "with open('od_matrix.json') as f:\n",
    "    od_matrix = json.load(f)\n",
    "\n",
    "\n",
    "df = pd.DataFrame()\n",
    "\n",
    "for d in tqdm(od_matrix):\n",
    "    origin_ward_no = int(d['origin']['properties']['WARD_NO'])\n",
    "    dest_obj = d['dest']\n",
    "    for i in range(len(dest_obj['time_list'])):\n",
    "        time_obj = dest_obj['time_list'][i]\n",
    "        dest_ward = dest_obj['dest_list'][i]\n",
    "        destid = int(dest_ward['properties']['WARD_NO'])\n",
    "        try:\n",
    "            df = df.append({\n",
    "                'sourceid': origin_ward_no,\n",
    "                'destid': destid,\n",
    "                'distance': time_obj['distance']['value'],\n",
    "                'duration': time_obj['duration']['value'],\n",
    "                'duration_in_traffic': time_obj['duration_in_traffic']['value']\n",
    "            }, ignore_index=True)\n",
    "        except Exception as e:\n",
    "            print(e)\n",
    "            print(time_obj)\n",
    "            \n",
    "\n",
    "df = df.astype(int)\n",
    "df.to_csv('bangalore_od_travelling.csv', index=False)\n"
   ]
  },
  {
   "cell_type": "code",
   "execution_count": null,
   "metadata": {},
   "outputs": [],
   "source": [
    "with open('od_matrix_transit.json') as f:\n",
    "    od_matrix_transit = json.load(f)\n",
    "\n",
    "\n",
    "df = pd.DataFrame()\n",
    "\n",
    "for d in tqdm(od_matrix_transit):\n",
    "    origin_ward_no = int(d['origin']['properties']['WARD_NO'])\n",
    "    dest_obj = d['dest']\n",
    "    for i in range(len(dest_obj['time_list'])):\n",
    "        time_obj = dest_obj['time_list'][i]\n",
    "        dest_ward = dest_obj['dest_list'][i]\n",
    "        destid = int(dest_ward['properties']['WARD_NO'])\n",
    "        try:\n",
    "            df = df.append({\n",
    "                'sourceid': origin_ward_no,\n",
    "                'destid': destid,\n",
    "                'distance': time_obj['distance']['value'],\n",
    "                'duration': time_obj['duration']['value'],\n",
    "                'fare': time_obj['fare']['value']\n",
    "            }, ignore_index=True)\n",
    "        except Exception as e:\n",
    "            print(e)\n",
    "            print(time_obj)\n",
    "            \n",
    "\n",
    "df = df.astype(int)\n",
    "df.to_csv('bangalore_od_travelling.csv', index=False)\n"
   ]
  }
 ],
 "metadata": {
  "kernelspec": {
   "display_name": "Python 3.9.5 64-bit",
   "language": "python",
   "name": "python3"
  },
  "language_info": {
   "codemirror_mode": {
    "name": "ipython",
    "version": 3
   },
   "file_extension": ".py",
   "mimetype": "text/x-python",
   "name": "python",
   "nbconvert_exporter": "python",
   "pygments_lexer": "ipython3",
   "version": "3.9.5"
  },
  "orig_nbformat": 4,
  "vscode": {
   "interpreter": {
    "hash": "949777d72b0d2535278d3dc13498b2535136f6dfe0678499012e853ee9abcab1"
   }
  }
 },
 "nbformat": 4,
 "nbformat_minor": 2
}
